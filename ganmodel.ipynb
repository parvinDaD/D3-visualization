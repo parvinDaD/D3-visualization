{
 "cells": [
  {
   "cell_type": "code",
   "execution_count": 1,
   "metadata": {
    "collapsed": false
   },
   "outputs": [],
   "source": [
    "import tensorflow as tf\n",
    "import os\n",
    "import time\n",
    "import numpy as np\n",
    "import matplotlib.pyplot as plt\n",
    "%matplotlib inline"
   ]
  },
  {
   "cell_type": "code",
   "execution_count": 2,
   "metadata": {
    "collapsed": true
   },
   "outputs": [],
   "source": [
    "from tensorflow.examples.tutorials.mnist import input_data"
   ]
  },
  {
   "cell_type": "code",
   "execution_count": 3,
   "metadata": {
    "collapsed": false
   },
   "outputs": [
    {
     "name": "stdout",
     "output_type": "stream",
     "text": [
      "Extracting /tmp/data/train-images-idx3-ubyte.gz\n",
      "Extracting /tmp/data/train-labels-idx1-ubyte.gz\n",
      "Extracting /tmp/data/t10k-images-idx3-ubyte.gz\n",
      "Extracting /tmp/data/t10k-labels-idx1-ubyte.gz\n"
     ]
    }
   ],
   "source": [
    "mnist=input_data.read_data_sets(\"/tmp/data/\",one_hot=True)"
   ]
  },
  {
   "cell_type": "code",
   "execution_count": 4,
   "metadata": {
    "collapsed": false
   },
   "outputs": [],
   "source": [
    "#Generator implementation\n",
    "def generator(z,reuse=None):\n",
    "    with tf.variable_scope('gen',reuse=reuse):\n",
    "        hidden1=tf.layers.dense(inputs=z,units=128)\n",
    "        #leaky activation function\n",
    "        alpha=0.01\n",
    "        hidden1=tf.maximum(alpha*hidden1,hidden1)\n",
    "        \n",
    "        hidden2=tf.layers.dense(inputs=hidden1,units=128)\n",
    "        hidden2=tf.maximum(alpha*hidden2,hidden2)\n",
    "        \n",
    "        output=tf.layers.dense(hidden2,units=784,activation=tf.nn.tanh)\n",
    "        \n",
    "        return output\n",
    "        \n",
    "        "
   ]
  },
  {
   "cell_type": "code",
   "execution_count": 5,
   "metadata": {
    "collapsed": true
   },
   "outputs": [],
   "source": [
    "#Discriminatorimplementation\n",
    "def discriminator(X,reuse=None):\n",
    "    with tf.variable_scope('dis',reuse=reuse):\n",
    "        hidden1=tf.layers.dense(inputs=X,units=128)\n",
    "        #leaky activation function\n",
    "        alpha=0.01\n",
    "        hidden1=tf.maximum(alpha*hidden1,hidden1)\n",
    "        \n",
    "        hidden2=tf.layers.dense(inputs=hidden1,units=128)\n",
    "        hidden2=tf.maximum(alpha*hidden2,hidden2)\n",
    "        \n",
    "        #we just ned to know if it is true or false\n",
    "        logits=tf.layers.dense(hidden2,units=1)\n",
    "        output=tf.sigmoid(logits)\n",
    "        \n",
    "        return output,logits"
   ]
  },
  {
   "cell_type": "code",
   "execution_count": 6,
   "metadata": {
    "collapsed": true
   },
   "outputs": [],
   "source": [
    "#placeholder for noise and input.\n",
    "real_images=tf.placeholder(tf.float32,shape=[None,784])\n",
    "z=tf.placeholder(tf.float32,shape=[None,100])\n"
   ]
  },
  {
   "cell_type": "code",
   "execution_count": 7,
   "metadata": {
    "collapsed": false
   },
   "outputs": [],
   "source": [
    "G=generator(z)"
   ]
  },
  {
   "cell_type": "code",
   "execution_count": 8,
   "metadata": {
    "collapsed": true
   },
   "outputs": [],
   "source": [
    "D_output_real,D_logits_real=discriminator(real_images)"
   ]
  },
  {
   "cell_type": "code",
   "execution_count": 9,
   "metadata": {
    "collapsed": true
   },
   "outputs": [],
   "source": [
    "D_output_fake,D_logits_fake=discriminator(G,reuse=True)"
   ]
  },
  {
   "cell_type": "code",
   "execution_count": 10,
   "metadata": {
    "collapsed": true
   },
   "outputs": [],
   "source": [
    "#Loss function\n",
    "def loss_function(logits_in,labels_in):\n",
    "    return tf.reduce_mean(tf.nn.sigmoid_cross_entropy_with_logits(logits=logits_in,labels=labels_in))\n"
   ]
  },
  {
   "cell_type": "code",
   "execution_count": 11,
   "metadata": {
    "collapsed": false
   },
   "outputs": [],
   "source": [
    "D_real_loss=loss_function(D_logits_real,tf.ones_like(D_logits_real)*0.9)\n",
    "D_fake_loss=loss_function(D_logits_fake,tf.zeros_like(D_logits_fake))\n"
   ]
  },
  {
   "cell_type": "code",
   "execution_count": 12,
   "metadata": {
    "collapsed": true
   },
   "outputs": [],
   "source": [
    "G_loss=loss_function(D_logits_fake,tf.ones_like(D_logits_fake))"
   ]
  },
  {
   "cell_type": "code",
   "execution_count": 13,
   "metadata": {
    "collapsed": true
   },
   "outputs": [],
   "source": [
    "D_loss=D_real_loss+D_fake_loss"
   ]
  },
  {
   "cell_type": "code",
   "execution_count": 14,
   "metadata": {
    "collapsed": true
   },
   "outputs": [],
   "source": [
    "#Optimizer\n",
    "learning_rate=0.001\n",
    "tvars=tf.trainable_variables()\n",
    "d_vars=[var for var in tvars if 'dis' in var.name]\n",
    "g_vars=[var for var in tvars if 'gen' in var.name]"
   ]
  },
  {
   "cell_type": "code",
   "execution_count": 15,
   "metadata": {
    "collapsed": false
   },
   "outputs": [],
   "source": [
    "D_traier=tf.train.AdamOptimizer(learning_rate).minimize(D_loss,var_list=d_vars)"
   ]
  },
  {
   "cell_type": "code",
   "execution_count": 16,
   "metadata": {
    "collapsed": true
   },
   "outputs": [],
   "source": [
    "G_traier=tf.train.AdamOptimizer(learning_rate).minimize(G_loss,var_list=g_vars)"
   ]
  },
  {
   "cell_type": "code",
   "execution_count": 17,
   "metadata": {
    "collapsed": true
   },
   "outputs": [],
   "source": [
    "#trainig session\n",
    "batch_size=100\n",
    "epochs=30\n",
    "init=tf.global_variables_initializer()"
   ]
  },
  {
   "cell_type": "code",
   "execution_count": 18,
   "metadata": {
    "collapsed": false
   },
   "outputs": [
    {
     "name": "stdout",
     "output_type": "stream",
     "text": [
      "training start!\n"
     ]
    }
   ],
   "source": [
    "samples=[]\n",
    "from datetime import datetime\n",
    "now=datetime.utcnow().strftime(\"%Y%m%d%H%M%S\")\n",
    "#saver=tf.train.Saver()\n",
    "root_logdir=\"tf_logs\"\n",
    "logdir=\"{}/run{}/\".format(root_logdir,now)\n",
    "train_set = (mnist.train.images - 0.5) / 0.5\n",
    "np.random.seed(int(time.time()))\n",
    "print('training start!')\n",
    "start_time = time.time()"
   ]
  },
  {
   "cell_type": "code",
   "execution_count": 19,
   "metadata": {
    "collapsed": false
   },
   "outputs": [
    {
     "name": "stdout",
     "output_type": "stream",
     "text": [
      "[1/30] - ptime: 8.04 loss_d: 0.459, loss_g: 3.701\n",
      "[2/30] - ptime: 16.02 loss_d: 0.463, loss_g: 3.886\n",
      "[3/30] - ptime: 24.12 loss_d: 0.515, loss_g: 3.882\n",
      "[4/30] - ptime: 32.10 loss_d: 0.622, loss_g: 4.048\n",
      "[5/30] - ptime: 40.08 loss_d: 0.705, loss_g: 4.399\n",
      "[6/30] - ptime: 48.08 loss_d: 0.738, loss_g: 4.075\n",
      "[7/30] - ptime: 56.08 loss_d: 0.776, loss_g: 3.956\n",
      "[8/30] - ptime: 64.09 loss_d: 0.839, loss_g: 4.024\n",
      "[9/30] - ptime: 72.38 loss_d: 0.864, loss_g: 3.865\n",
      "[10/30] - ptime: 80.83 loss_d: 0.877, loss_g: 3.711\n",
      "[11/30] - ptime: 89.14 loss_d: 0.869, loss_g: 3.640\n",
      "[12/30] - ptime: 97.30 loss_d: 0.863, loss_g: 3.571\n",
      "[13/30] - ptime: 105.33 loss_d: 0.856, loss_g: 3.521\n",
      "[14/30] - ptime: 113.33 loss_d: 0.850, loss_g: 3.489\n",
      "[15/30] - ptime: 121.33 loss_d: 0.846, loss_g: 3.480\n",
      "[16/30] - ptime: 129.33 loss_d: 0.839, loss_g: 3.448\n",
      "[17/30] - ptime: 138.26 loss_d: 0.832, loss_g: 3.410\n",
      "[18/30] - ptime: 146.83 loss_d: 0.827, loss_g: 3.406\n",
      "[19/30] - ptime: 154.82 loss_d: 0.822, loss_g: 3.377\n",
      "[20/30] - ptime: 162.82 loss_d: 0.819, loss_g: 3.341\n",
      "[21/30] - ptime: 171.77 loss_d: 0.817, loss_g: 3.312\n",
      "[22/30] - ptime: 180.34 loss_d: 0.816, loss_g: 3.278\n",
      "[23/30] - ptime: 188.58 loss_d: 0.815, loss_g: 3.255\n",
      "[24/30] - ptime: 197.77 loss_d: 0.814, loss_g: 3.232\n",
      "[25/30] - ptime: 205.85 loss_d: 0.815, loss_g: 3.200\n",
      "[26/30] - ptime: 214.53 loss_d: 0.815, loss_g: 3.170\n",
      "[27/30] - ptime: 223.36 loss_d: 0.815, loss_g: 3.142\n",
      "[28/30] - ptime: 231.36 loss_d: 0.814, loss_g: 3.116\n",
      "[29/30] - ptime: 240.76 loss_d: 0.814, loss_g: 3.090\n",
      "[30/30] - ptime: 249.07 loss_d: 0.816, loss_g: 3.060\n"
     ]
    }
   ],
   "source": [
    "with tf.Session() as sess:\n",
    "    writer=tf.summary.FileWriter(logdir,tf.get_default_graph())\n",
    "    sess.run(init)\n",
    "    G_losses = []\n",
    "    D_losses = []\n",
    "    epoch_start_time = time.time()\n",
    "    for epoch in range(epochs):\n",
    "        num_batches=mnist.train.num_examples//batch_size\n",
    "        \n",
    "        for i in range(num_batches):\n",
    "            batch_im=train_set[i*batch_size:(i+1)*batch_size]\n",
    "            #batch_im=batch[0].reshape((batch_size,784))\n",
    "            #batch_im=batch_im*2-1\n",
    "            \n",
    "            batch_z=np.random.uniform(-1,1,size=(batch_size,100))\n",
    "            \n",
    "            loss_d_, _=sess.run([D_loss,D_traier],feed_dict={real_images:batch_im,z:batch_z})\n",
    "            D_losses.append(loss_d_)\n",
    "            loss_g_,_=sess.run([G_loss,G_traier],feed_dict={z:batch_z})\n",
    "            G_losses.append(loss_g_)\n",
    "            \n",
    "        \n",
    "        \n",
    "        sample_z=np.random.uniform(-1,1,size=(1,100))\n",
    "        gen_sample=sess.run(generator(z,reuse=True),feed_dict={z:sample_z})\n",
    "        samples.append(gen_sample)\n",
    "        epoch_end_time = time.time()\n",
    "        per_epoch_ptime = epoch_end_time - epoch_start_time\n",
    "        print('[%d/%d] - ptime: %.2f loss_d: %.3f, loss_g: %.3f' % ((epoch + 1),epochs, per_epoch_ptime, np.mean(D_losses), np.mean(G_losses)))\n",
    "    writer.close()"
   ]
  },
  {
   "cell_type": "code",
   "execution_count": 20,
   "metadata": {
    "collapsed": false
   },
   "outputs": [],
   "source": [
    "root = 'MNIST_DCGAN_results/'\n",
    "if not os.path.isdir(root):\n",
    "    os.mkdir(root)\n",
    "from tempfile import TemporaryFile\n",
    "outfile = TemporaryFile()\n",
    "np.save(outfile, samples)\n",
    "outfile.seek(0)\n",
    "sam=np.load(outfile)[19,:,:]"
   ]
  },
  {
   "cell_type": "code",
   "execution_count": 21,
   "metadata": {
    "collapsed": false
   },
   "outputs": [
    {
     "data": {
      "text/plain": [
       "<matplotlib.image.AxesImage at 0x7f64baf5a2b0>"
      ]
     },
     "execution_count": 21,
     "metadata": {},
     "output_type": "execute_result"
    },
    {
     "data": {
      "image/png": "[encoded data removed]",
      "text/plain": [
       "<matplotlib.figure.Figure at 0x7f64beb19cc0>"
      ]
     },
     "metadata": {},
     "output_type": "display_data"
    }
   ],
   "source": [
    "plt.imshow(sam.reshape(28,28))"
   ]
  },
  {
   "cell_type": "code",
   "execution_count": 22,
   "metadata": {
    "collapsed": true
   },
   "outputs": [],
   "source": [
    "saver=tf.train.Saver(var_list=g_vars)"
   ]
  },
  {
   "cell_type": "code",
   "execution_count": 23,
   "metadata": {
    "collapsed": true
   },
   "outputs": [],
   "source": [
    "#with tf.Session() as sess:\n",
    " #   saver.restore(sess,'')\n",
    "    #generate sample"
   ]
  }
 ],
 "metadata": {
  "kernelspec": {
   "display_name": "Python 3",
   "language": "python",
   "name": "python3"
  },
  "language_info": {
   "codemirror_mode": {
    "name": "ipython",
    "version": 3
   },
   "file_extension": ".py",
   "mimetype": "text/x-python",
   "name": "python",
   "nbconvert_exporter": "python",
   "pygments_lexer": "ipython3",
   "version": "3.5.1"
  }
 },
 "nbformat": 4,
 "nbformat_minor": 0
}
